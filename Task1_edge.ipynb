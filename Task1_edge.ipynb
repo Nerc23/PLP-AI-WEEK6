{
  "nbformat": 4,
  "nbformat_minor": 0,
  "metadata": {
    "colab": {
      "provenance": []
    },
    "kernelspec": {
      "name": "python3",
      "display_name": "Python 3"
    },
    "language_info": {
      "name": "python"
    }
  },
  "cells": [
    {
      "cell_type": "code",
      "execution_count": 1,
      "metadata": {
        "colab": {
          "base_uri": "https://localhost:8080/"
        },
        "id": "IWVEo0oh5FgP",
        "outputId": "67be0a85-6e0b-4bcd-a82d-0e65223c0fb3"
      },
      "outputs": [
        {
          "output_type": "stream",
          "name": "stdout",
          "text": [
            "Training Edge AI Model...\n"
          ]
        },
        {
          "output_type": "stream",
          "name": "stderr",
          "text": [
            "/usr/local/lib/python3.11/dist-packages/keras/src/layers/convolutional/base_conv.py:113: UserWarning: Do not pass an `input_shape`/`input_dim` argument to a layer. When using Sequential models, prefer using an `Input(shape)` object as the first layer in the model instead.\n",
            "  super().__init__(activity_regularizer=activity_regularizer, **kwargs)\n"
          ]
        },
        {
          "output_type": "stream",
          "name": "stdout",
          "text": [
            "Epoch 1/3\n",
            "\u001b[1m8/8\u001b[0m \u001b[32m━━━━━━━━━━━━━━━━━━━━\u001b[0m\u001b[37m\u001b[0m \u001b[1m5s\u001b[0m 44ms/step - accuracy: 0.3373 - loss: 1.0564\n",
            "Epoch 2/3\n",
            "\u001b[1m8/8\u001b[0m \u001b[32m━━━━━━━━━━━━━━━━━━━━\u001b[0m\u001b[37m\u001b[0m \u001b[1m0s\u001b[0m 34ms/step - accuracy: 0.3847 - loss: 1.0076\n",
            "Epoch 3/3\n",
            "\u001b[1m8/8\u001b[0m \u001b[32m━━━━━━━━━━━━━━━━━━━━\u001b[0m\u001b[37m\u001b[0m \u001b[1m1s\u001b[0m 33ms/step - accuracy: 0.3789 - loss: 0.9918\n",
            "Accuracy: 0.350\n",
            "Saved artifact at '/tmp/tmpd3pu1_l3'. The following endpoints are available:\n",
            "\n",
            "* Endpoint 'serve'\n",
            "  args_0 (POSITIONAL_ONLY): TensorSpec(shape=(None, 32, 32, 3), dtype=tf.float32, name='keras_tensor')\n",
            "Output Type:\n",
            "  TensorSpec(shape=(None, 3), dtype=tf.float32, name=None)\n",
            "Captures:\n",
            "  134576160083408: TensorSpec(shape=(), dtype=tf.resource, name=None)\n",
            "  134576160086672: TensorSpec(shape=(), dtype=tf.resource, name=None)\n",
            "  134576160085328: TensorSpec(shape=(), dtype=tf.resource, name=None)\n",
            "  134576160083792: TensorSpec(shape=(), dtype=tf.resource, name=None)\n",
            "  134576160086096: TensorSpec(shape=(), dtype=tf.resource, name=None)\n",
            "  134576160085712: TensorSpec(shape=(), dtype=tf.resource, name=None)\n",
            "Model saved: 5.2 KB\n",
            "Speed: 0.1 ms\n",
            "Edge AI Benefits: Fast (0.1ms), Private, Offline\n"
          ]
        },
        {
          "output_type": "stream",
          "name": "stderr",
          "text": [
            "/usr/local/lib/python3.11/dist-packages/tensorflow/lite/python/interpreter.py:457: UserWarning:     Warning: tf.lite.Interpreter is deprecated and is scheduled for deletion in\n",
            "    TF 2.20. Please use the LiteRT interpreter from the ai_edge_litert package.\n",
            "    See the [migration guide](https://ai.google.dev/edge/litert/migration)\n",
            "    for details.\n",
            "    \n",
            "  warnings.warn(_INTERPRETER_DELETION_WARNING)\n"
          ]
        }
      ],
      "source": [
        "#!/usr/bin/env python3\n",
        "\"\"\"\n",
        "Ultra Simple Edge AI: Recyclable Classification\n",
        "===============================================\n",
        "Minimal code to train and deploy a lightweight model.\n",
        "\n",
        "Install: pip install tensorflow numpy\n",
        "\"\"\"\n",
        "\n",
        "import tensorflow as tf\n",
        "import numpy as np\n",
        "import time\n",
        "\n",
        "# Configuration\n",
        "IMG_SIZE = 32\n",
        "CLASSES = ['plastic', 'metal', 'glass']\n",
        "\n",
        "def create_data():\n",
        "    \"\"\"Generate simple test data\"\"\"\n",
        "    x = np.random.rand(300, IMG_SIZE, IMG_SIZE, 3).astype(np.float32)\n",
        "    y = np.random.randint(0, 3, 300)\n",
        "\n",
        "    # Add basic patterns\n",
        "    for i in range(300):\n",
        "        if y[i] == 0: x[i, :, :, 2] += 0.3    # plastic = blue\n",
        "        elif y[i] == 1: x[i] *= 0.5           # metal = dark\n",
        "        elif y[i] == 2: x[i] += 0.3           # glass = bright\n",
        "\n",
        "    return np.clip(x, 0, 1), y\n",
        "\n",
        "def create_model():\n",
        "    \"\"\"Simple CNN model\"\"\"\n",
        "    return tf.keras.Sequential([\n",
        "        tf.keras.layers.Conv2D(8, 3, activation='relu', input_shape=(IMG_SIZE, IMG_SIZE, 3)),\n",
        "        tf.keras.layers.MaxPooling2D(2),\n",
        "        tf.keras.layers.Conv2D(16, 3, activation='relu'),\n",
        "        tf.keras.layers.GlobalAveragePooling2D(),\n",
        "        tf.keras.layers.Dense(3, activation='softmax')\n",
        "    ])\n",
        "\n",
        "def main():\n",
        "    print(\"Training Edge AI Model...\")\n",
        "\n",
        "    # Create data\n",
        "    x, y = create_data()\n",
        "    split = 240\n",
        "    x_train, x_test = x[:split], x[split:]\n",
        "    y_train, y_test = y[:split], y[split:]\n",
        "\n",
        "    # Train model\n",
        "    model = create_model()\n",
        "    model.compile(optimizer='adam', loss='sparse_categorical_crossentropy', metrics=['accuracy'])\n",
        "    model.fit(x_train, y_train, epochs=3, verbose=1)\n",
        "\n",
        "    # Test accuracy\n",
        "    _, accuracy = model.evaluate(x_test, y_test, verbose=0)\n",
        "    print(f\"Accuracy: {accuracy:.3f}\")\n",
        "\n",
        "    # Convert to TensorFlow Lite\n",
        "    converter = tf.lite.TFLiteConverter.from_keras_model(model)\n",
        "    converter.optimizations = [tf.lite.Optimize.DEFAULT]\n",
        "    tflite_model = converter.convert()\n",
        "\n",
        "    # Save model\n",
        "    with open('model.tflite', 'wb') as f:\n",
        "        f.write(tflite_model)\n",
        "\n",
        "    print(f\"Model saved: {len(tflite_model)/1024:.1f} KB\")\n",
        "\n",
        "    # Test speed\n",
        "    interpreter = tf.lite.Interpreter(model_path='model.tflite')\n",
        "    interpreter.allocate_tensors()\n",
        "\n",
        "    start = time.time()\n",
        "    for i in range(10):\n",
        "        interpreter.set_tensor(0, np.expand_dims(x_test[0], 0))\n",
        "        interpreter.invoke()\n",
        "\n",
        "    avg_time = (time.time() - start) * 100  # ms per inference\n",
        "    print(f\"Speed: {avg_time:.1f} ms\")\n",
        "    print(f\"Edge AI Benefits: Fast ({avg_time:.1f}ms), Private, Offline\")\n",
        "\n",
        "if __name__ == \"__main__\":\n",
        "    main()\n",
        "\n",
        "# Raspberry Pi Usage:\n",
        "# import tflite_runtime.interpreter as tflite\n",
        "# interpreter = tflite.Interpreter('model.tflite')\n",
        "# interpreter.allocate_tensors()\n",
        "# interpreter.set_tensor(0, image_array)\n",
        "# interpreter.invoke()\n",
        "# result = interpreter.get_tensor(1)"
      ]
    }
  ]
}